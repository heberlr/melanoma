{
 "cells": [
  {
   "cell_type": "markdown",
   "metadata": {},
   "source": [
    "# Plot result from \"A multiscale model of melanoma pulmonary micrometastasis and immune surveillance: towards cancer patient digital twins\""
   ]
  },
  {
   "cell_type": "code",
   "execution_count": null,
   "metadata": {},
   "outputs": [],
   "source": [
    "import ipywidgets as widgets\n",
    "from Plot_Population import *\n",
    "from Plot_Patients import *"
   ]
  },
  {
   "cell_type": "markdown",
   "metadata": {},
   "source": [
    "#### Downloading and Loading dataset "
   ]
  },
  {
   "cell_type": "code",
   "execution_count": null,
   "metadata": {},
   "outputs": [],
   "source": [
    "df_input, df_output = Loading_dataset()"
   ]
  },
  {
   "cell_type": "markdown",
   "metadata": {},
   "source": [
    "## 1. Cell population of virtual patients\n",
    "\n",
    "Cell population in lymph node and in the microenvironment for 10k samples (patients), mean and standard deviation for 10 replicates. "
   ]
  },
  {
   "cell_type": "code",
   "execution_count": null,
   "metadata": {},
   "outputs": [],
   "source": [
    "widgets.interact(plot_PopCells,df_output=widgets.fixed(df_output), sampleID=widgets.BoundedIntText(min=0, max=9999, step=1, value=2, description='Patient: '))"
   ]
  },
  {
   "cell_type": "markdown",
   "metadata": {},
   "source": [
    "#### Cell population of Patients: 2, 93, and 5"
   ]
  },
  {
   "cell_type": "code",
   "execution_count": null,
   "metadata": {},
   "outputs": [],
   "source": [
    "fig, (ax1,ax2,ax3) = plt.subplots(1,3,figsize=(16, 5))\n",
    "fig2, (ax11,ax12,ax13) = plt.subplots(1,3,figsize=(16, 5))\n",
    "plotSamplesMicroEnv(df_output, 2,ax1,ax11)\n",
    "plotSamplesMicroEnv(df_output, 93,ax2,ax12)\n",
    "plotSamplesMicroEnv(df_output,5,ax3,ax13)\n",
    "# set the spacing between subplots\n",
    "fig.tight_layout()\n",
    "fig2.tight_layout()\n",
    "plt.show()"
   ]
  },
  {
   "cell_type": "markdown",
   "metadata": {},
   "source": [
    "## 2. Labeling patients\n",
    "### 2.1 Labeling based on threshold\n",
    "\n",
    "* Labeling based on cancer cell population at day 10 (last time) for all 100k simulations. The thresholds chosen in the last point were 100 and 1500 cells, defining the Significant Control (SC), Marginal Control (MC), and No Control (NC).\n",
    "* Grouping the simulations in 10,000 patients and labeling them into 7 different classes {NC,MC,SC,NC+MC,NC+SC,MC+SC,NC+MC+SC}\n",
    "* Regrouping patients into 3 classes, considering the mixed class as the union of {NC+MC,NC+SC,MC+SC,NC+MC+SC}."
   ]
  },
  {
   "cell_type": "code",
   "execution_count": null,
   "metadata": {
    "tags": [
     "hide-input"
    ]
   },
   "outputs": [],
   "source": [
    "Sim_df_lastFrame = Classifier_Simulations(df_output)\n",
    "Pat_df_7classes, Pat_df_3classes = Classifier_Patients(Sim_df_lastFrame)"
   ]
  },
  {
   "cell_type": "code",
   "execution_count": null,
   "metadata": {
    "tags": [
     "hide-input"
    ]
   },
   "outputs": [],
   "source": [
    "Plot_Patients(Sim_df_lastFrame,Pat_df_7classes,Pat_df_3classes, Title=False)"
   ]
  },
  {
   "cell_type": "markdown",
   "metadata": {},
   "source": [
    "#### 2.1.1 Parameters space according the labels"
   ]
  },
  {
   "cell_type": "code",
   "execution_count": null,
   "metadata": {},
   "outputs": [],
   "source": [
    "df_input_min_max_scaled = Normalize_Parameters(df_input, Pat_df_3classes)\n",
    "Plot_Parameters(df_input_min_max_scaled)"
   ]
  },
  {
   "cell_type": "markdown",
   "metadata": {},
   "source": [
    "Perform T-test"
   ]
  },
  {
   "cell_type": "code",
   "execution_count": null,
   "metadata": {},
   "outputs": [],
   "source": [
    "T_test(df_input_min_max_scaled)"
   ]
  },
  {
   "cell_type": "markdown",
   "metadata": {},
   "source": [
    "#### 2.1.2 Patients Variation"
   ]
  },
  {
   "cell_type": "code",
   "execution_count": null,
   "metadata": {
    "scrolled": false
   },
   "outputs": [],
   "source": [
    "Plot_PatientAnalysis()"
   ]
  },
  {
   "cell_type": "markdown",
   "metadata": {},
   "source": [
    "### 2.2 Labeling based on image trajectories\n",
    "\n",
    "Applying dimensionality reduction in image frames trajectories (concatenated images over time, matrix shape =$(100k, 2325)$, 31 RGB images $5\\times 5$ overtime) using Uniform Manifold Approximation and Projection (UMAP)."
   ]
  },
  {
   "cell_type": "code",
   "execution_count": null,
   "metadata": {
    "tags": [
     "hide-input"
    ]
   },
   "outputs": [],
   "source": [
    "Plot_UMAP(Sim_df_lastFrame)"
   ]
  },
  {
   "cell_type": "code",
   "execution_count": null,
   "metadata": {},
   "outputs": [],
   "source": []
  }
 ],
 "metadata": {
  "kernelspec": {
   "display_name": "Python 3 (ipykernel)",
   "language": "python",
   "name": "python3"
  },
  "language_info": {
   "codemirror_mode": {
    "name": "ipython",
    "version": 3
   },
   "file_extension": ".py",
   "mimetype": "text/x-python",
   "name": "python",
   "nbconvert_exporter": "python",
   "pygments_lexer": "ipython3",
   "version": "3.7.6"
  }
 },
 "nbformat": 4,
 "nbformat_minor": 4
}
